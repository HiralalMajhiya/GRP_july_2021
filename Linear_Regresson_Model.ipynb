{
 "cells": [
  {
   "cell_type": "code",
   "execution_count": 2,
   "id": "08ab6c1d",
   "metadata": {},
   "outputs": [],
   "source": [
    "problem={\"1\": [\"● Predict the percentage of an student based on the no. of study hours. \"],\n",
    "\"2\": [\"● This is a simple linear regresson problem, it involve just two variables\"],\n",
    "\"3\": [\"● You can use R, Python, SAS Enterprise Miner or any other tool\"],\n",
    "\"4\": [\"● Data can be found at http://bit.ly/w-data\"],\n",
    "\"5\": [\"● What will be predicted score if a student studies for 9.25 hrs/ day?\"],\n",
    "\"6\": [\"● Sample Solution : https://bit.ly/2HxiGGJ\"]}\n",
    "\n",
    "##Rewriting the problem in dictionary formate so that we can view it again whenever we need."
   ]
  },
  {
   "cell_type": "markdown",
   "id": "bc9f8c14",
   "metadata": {},
   "source": [
    "## 1. Problem Definition\n",
    "\n",
    "● Predict the percentage of an student based on the no. of study hours.\n",
    "\n",
    "● Since this problem has continuous valued output,It must be a Supervised Regresson problem (Supervised, because it has data     and corresponding labels)\n",
    "\n",
    "● It it clear that we can use machine learning model to solve this proble, Now let's dive into the data available for\n",
    "this problem"
   ]
  },
  {
   "cell_type": "markdown",
   "id": "d3e821e6",
   "metadata": {},
   "source": [
    "##  2.Data\n",
    "● Let's  make ourselve familiar with data so that we can use it in modelling.\n",
    "\n",
    "● we also check if the data availabe to us is relatable to our problem or not."
   ]
  },
  {
   "cell_type": "markdown",
   "id": "db833ddc",
   "metadata": {},
   "source": [
    "## 3. Evaluation\n",
    "\n",
    "What defines success for us, Is 90% score good enough for our problem.\n",
    "\n",
    "Since the given problem does'nt have any evaluation criteria we will not go deep into model evaluation\n"
   ]
  },
  {
   "cell_type": "markdown",
   "id": "b5e6320c",
   "metadata": {},
   "source": [
    "## 4. Features\n",
    "\n",
    "What features do we have in our data, which feature can we use in our modelling\n",
    "In this section we will be discussing more about the data with the subject matter expert\n",
    "Are they Worth incorporating in our model?"
   ]
  },
  {
   "cell_type": "markdown",
   "id": "92b7662d",
   "metadata": {},
   "source": [
    "## 5. Modelling\n",
    "\n",
    "When we are done whith the above steps, then we will dive into modelling\n",
    "This section comprise of three steps\n",
    "\n",
    "1. Choosing a right model for our problem (For this we can follow the Scikit-learn model selection diagram)\n",
    "\n",
    "2. Tuning the model (Improving our model by changing the hyperparameters)\n",
    "\n",
    "3. Model comparison (comparing the model with some other models. In some problem simple model tends to work best than complex models)"
   ]
  },
  {
   "cell_type": "markdown",
   "id": "748c3981",
   "metadata": {},
   "source": [
    "## 6. Experimentation\n",
    "\n",
    "This is also an import part of the machine learning\n",
    "What else could we try? How do the other steps change based on what we’ve found? Does our deployed model do as we expected?\n",
    "our biggest goal should be minimising the time between offline experiments and online experiments."
   ]
  },
  {
   "cell_type": "code",
   "execution_count": 3,
   "id": "5c26cadb",
   "metadata": {},
   "outputs": [],
   "source": [
    "# importing Required Python Libraries for this Project\n",
    "%matplotlib inline\n",
    "import numpy as np\n",
    "import pandas as pd\n",
    "import matplotlib.pyplot as plt"
   ]
  },
  {
   "cell_type": "code",
   "execution_count": 4,
   "id": "de5316a4",
   "metadata": {},
   "outputs": [],
   "source": [
    "df=pd.read_csv(\"student_scores.csv\")"
   ]
  },
  {
   "cell_type": "code",
   "execution_count": 5,
   "id": "73c787a9",
   "metadata": {
    "scrolled": true
   },
   "outputs": [
    {
     "data": {
      "text/html": [
       "<div>\n",
       "<style scoped>\n",
       "    .dataframe tbody tr th:only-of-type {\n",
       "        vertical-align: middle;\n",
       "    }\n",
       "\n",
       "    .dataframe tbody tr th {\n",
       "        vertical-align: top;\n",
       "    }\n",
       "\n",
       "    .dataframe thead th {\n",
       "        text-align: right;\n",
       "    }\n",
       "</style>\n",
       "<table border=\"1\" class=\"dataframe\">\n",
       "  <thead>\n",
       "    <tr style=\"text-align: right;\">\n",
       "      <th></th>\n",
       "      <th>Hours</th>\n",
       "      <th>Scores</th>\n",
       "    </tr>\n",
       "  </thead>\n",
       "  <tbody>\n",
       "    <tr>\n",
       "      <th>0</th>\n",
       "      <td>2.5</td>\n",
       "      <td>21</td>\n",
       "    </tr>\n",
       "    <tr>\n",
       "      <th>1</th>\n",
       "      <td>5.1</td>\n",
       "      <td>47</td>\n",
       "    </tr>\n",
       "    <tr>\n",
       "      <th>2</th>\n",
       "      <td>3.2</td>\n",
       "      <td>27</td>\n",
       "    </tr>\n",
       "    <tr>\n",
       "      <th>3</th>\n",
       "      <td>8.5</td>\n",
       "      <td>75</td>\n",
       "    </tr>\n",
       "    <tr>\n",
       "      <th>4</th>\n",
       "      <td>3.5</td>\n",
       "      <td>30</td>\n",
       "    </tr>\n",
       "    <tr>\n",
       "      <th>5</th>\n",
       "      <td>1.5</td>\n",
       "      <td>20</td>\n",
       "    </tr>\n",
       "  </tbody>\n",
       "</table>\n",
       "</div>"
      ],
      "text/plain": [
       "   Hours  Scores\n",
       "0    2.5      21\n",
       "1    5.1      47\n",
       "2    3.2      27\n",
       "3    8.5      75\n",
       "4    3.5      30\n",
       "5    1.5      20"
      ]
     },
     "execution_count": 5,
     "metadata": {},
     "output_type": "execute_result"
    }
   ],
   "source": [
    "df.head(6)"
   ]
  },
  {
   "cell_type": "code",
   "execution_count": 6,
   "id": "9404a93c",
   "metadata": {},
   "outputs": [
    {
     "name": "stdout",
     "output_type": "stream",
     "text": [
      "<class 'pandas.core.frame.DataFrame'>\n",
      "RangeIndex: 25 entries, 0 to 24\n",
      "Data columns (total 2 columns):\n",
      " #   Column  Non-Null Count  Dtype  \n",
      "---  ------  --------------  -----  \n",
      " 0   Hours   25 non-null     float64\n",
      " 1   Scores  25 non-null     int64  \n",
      "dtypes: float64(1), int64(1)\n",
      "memory usage: 528.0 bytes\n"
     ]
    }
   ],
   "source": [
    "df.info()"
   ]
  },
  {
   "cell_type": "code",
   "execution_count": 7,
   "id": "37fcca60",
   "metadata": {},
   "outputs": [
    {
     "data": {
      "text/plain": [
       "0     2.5\n",
       "1     5.1\n",
       "2     3.2\n",
       "3     8.5\n",
       "4     3.5\n",
       "5     1.5\n",
       "6     9.2\n",
       "7     5.5\n",
       "8     8.3\n",
       "9     2.7\n",
       "10    7.7\n",
       "11    5.9\n",
       "12    4.5\n",
       "13    3.3\n",
       "14    1.1\n",
       "15    8.9\n",
       "16    2.5\n",
       "17    1.9\n",
       "18    6.1\n",
       "19    7.4\n",
       "20    2.7\n",
       "21    4.8\n",
       "22    3.8\n",
       "23    6.9\n",
       "24    7.8\n",
       "Name: Hours, dtype: float64"
      ]
     },
     "execution_count": 7,
     "metadata": {},
     "output_type": "execute_result"
    }
   ],
   "source": [
    "df[\"Hours\"]"
   ]
  },
  {
   "cell_type": "code",
   "execution_count": 8,
   "id": "d9d29d6b",
   "metadata": {},
   "outputs": [
    {
     "data": {
      "image/png": "[encoded data removed]",
      "text/plain": [
       "<Figure size 720x432 with 1 Axes>"
      ]
     },
     "metadata": {
      "needs_background": "light"
     },
     "output_type": "display_data"
    }
   ],
   "source": [
    "fig,ax=plt.subplots(figsize=(10,6))\n",
    "ax.scatter(df[\"Hours\"],df[\"Scores\"],marker=\"*\",c=\"blue\",s=20*df[\"Hours\"])\n",
    "plt.title(\"Study hours vs percentage\",color=\"red\")\n",
    "plt.xlabel(\"Study hours\",color=\"red\")\n",
    "plt.ylabel(\"Percentage\",color=\"red\")\n",
    "plt.show()"
   ]
  },
  {
   "cell_type": "markdown",
   "id": "3dec7b4c",
   "metadata": {},
   "source": [
    "#### From the graph we can clearly see that there is a positve relation between study hours and percentage"
   ]
  },
  {
   "cell_type": "code",
   "execution_count": 10,
   "id": "eac282b5",
   "metadata": {},
   "outputs": [
    {
     "data": {
      "text/plain": [
       "0    2.5\n",
       "1    5.1\n",
       "2    3.2\n",
       "3    8.5\n",
       "4    3.5\n",
       "Name: Hours, dtype: float64"
      ]
     },
     "execution_count": 10,
     "metadata": {},
     "output_type": "execute_result"
    }
   ],
   "source": [
    "# Now let's seprate the data into input and output sets\n",
    "X=df[\"Hours\"]\n",
    "X.head()"
   ]
  },
  {
   "cell_type": "code",
   "execution_count": 11,
   "id": "b67913d3",
   "metadata": {},
   "outputs": [
    {
     "data": {
      "text/plain": [
       "0    21\n",
       "1    47\n",
       "2    27\n",
       "3    75\n",
       "4    30\n",
       "Name: Scores, dtype: int64"
      ]
     },
     "execution_count": 11,
     "metadata": {},
     "output_type": "execute_result"
    }
   ],
   "source": [
    "y=df[\"Scores\"]\n",
    "y.head()"
   ]
  },
  {
   "cell_type": "code",
   "execution_count": 12,
   "id": "fcb37dcb",
   "metadata": {},
   "outputs": [],
   "source": [
    "#Now split the data into test and traing sets\n",
    "#we will use scikit-learn modeule to split our data into the train and test\n",
    "from sklearn.model_selection import train_test_split"
   ]
  },
  {
   "cell_type": "code",
   "execution_count": 13,
   "id": "7377d4c9",
   "metadata": {},
   "outputs": [],
   "source": [
    "X_train,X_test,y_train,y_test=train_test_split(X,y,test_size=0.2)"
   ]
  },
  {
   "cell_type": "code",
   "execution_count": 14,
   "id": "bf1b1870",
   "metadata": {},
   "outputs": [
    {
     "data": {
      "text/plain": [
       "20    2.7\n",
       "11    5.9\n",
       "19    7.4\n",
       "7     5.5\n",
       "4     3.5\n",
       "Name: Hours, dtype: float64"
      ]
     },
     "execution_count": 14,
     "metadata": {},
     "output_type": "execute_result"
    }
   ],
   "source": [
    "X_train.head()"
   ]
  },
  {
   "cell_type": "code",
   "execution_count": 15,
   "id": "943eabac",
   "metadata": {},
   "outputs": [
    {
     "data": {
      "text/plain": [
       "6     9.2\n",
       "13    3.3\n",
       "8     8.3\n",
       "9     2.7\n",
       "15    8.9\n",
       "Name: Hours, dtype: float64"
      ]
     },
     "execution_count": 15,
     "metadata": {},
     "output_type": "execute_result"
    }
   ],
   "source": [
    "X_test.head()"
   ]
  },
  {
   "cell_type": "code",
   "execution_count": 16,
   "id": "e12cc857",
   "metadata": {},
   "outputs": [
    {
     "data": {
      "text/plain": [
       "20    30\n",
       "11    62\n",
       "19    69\n",
       "7     60\n",
       "4     30\n",
       "Name: Scores, dtype: int64"
      ]
     },
     "execution_count": 16,
     "metadata": {},
     "output_type": "execute_result"
    }
   ],
   "source": [
    "y_train.head()"
   ]
  },
  {
   "cell_type": "code",
   "execution_count": 17,
   "id": "720900b3",
   "metadata": {},
   "outputs": [
    {
     "data": {
      "text/plain": [
       "6     88\n",
       "13    42\n",
       "8     81\n",
       "9     25\n",
       "15    95\n",
       "Name: Scores, dtype: int64"
      ]
     },
     "execution_count": 17,
     "metadata": {},
     "output_type": "execute_result"
    }
   ],
   "source": [
    "y_test.head()"
   ]
  },
  {
   "cell_type": "code",
   "execution_count": 18,
   "id": "ebe189d9",
   "metadata": {},
   "outputs": [
    {
     "data": {
      "text/plain": [
       "(20,)"
      ]
     },
     "execution_count": 18,
     "metadata": {},
     "output_type": "execute_result"
    }
   ],
   "source": [
    "X_train.shape"
   ]
  },
  {
   "cell_type": "code",
   "execution_count": 69,
   "id": "8509fe21",
   "metadata": {},
   "outputs": [
    {
     "data": {
      "text/plain": [
       "array([2.7, 5.9, 7.4, 5.5, 3.5, 4.8, 2.5, 1.5, 7.8, 3.2, 8.5, 3.8, 4.5,\n",
       "       1.9, 7.7, 5.1, 1.1, 6.1, 6.9, 2.5])"
      ]
     },
     "execution_count": 69,
     "metadata": {},
     "output_type": "execute_result"
    }
   ],
   "source": [
    "arr=np.array(X_train)\n",
    "arr"
   ]
  },
  {
   "cell_type": "code",
   "execution_count": 67,
   "id": "9359a3a8",
   "metadata": {},
   "outputs": [],
   "source": [
    "# LinearRegresson accept 2D array that's why we have to reshape it in 2D array\n",
    "ar=arr.reshape(-1,1)"
   ]
  },
  {
   "cell_type": "code",
   "execution_count": 21,
   "id": "98d87fee",
   "metadata": {},
   "outputs": [],
   "source": [
    "y_train=np.array(y_train)"
   ]
  },
  {
   "cell_type": "code",
   "execution_count": 22,
   "id": "c5c40a7b",
   "metadata": {},
   "outputs": [],
   "source": [
    "#Same reason (converting into 2D array)\n",
    "y_train=y_train.reshape(-1,1)"
   ]
  },
  {
   "cell_type": "markdown",
   "id": "1a29318b",
   "metadata": {},
   "source": [
    "# Modelling\n",
    ">> I would be using LinearRegresson model for this project"
   ]
  },
  {
   "cell_type": "code",
   "execution_count": 23,
   "id": "37aa5763",
   "metadata": {},
   "outputs": [
    {
     "data": {
      "text/plain": [
       "LinearRegression(n_jobs=-1)"
      ]
     },
     "execution_count": 23,
     "metadata": {},
     "output_type": "execute_result"
    }
   ],
   "source": [
    "# Now that we have completed necessary steps for modelling, It's time to choose a model and train it for making predictions\n",
    "from sklearn.linear_model import LinearRegression\n",
    "model=LinearRegression(n_jobs=-1)\n",
    "model.fit(ar,y_train)"
   ]
  },
  {
   "cell_type": "code",
   "execution_count": 24,
   "id": "39c54a50",
   "metadata": {},
   "outputs": [
    {
     "data": {
      "text/plain": [
       "array([1.99146461])"
      ]
     },
     "execution_count": 24,
     "metadata": {},
     "output_type": "execute_result"
    }
   ],
   "source": [
    "model.intercept_"
   ]
  },
  {
   "cell_type": "code",
   "execution_count": 25,
   "id": "6aaf6f43",
   "metadata": {},
   "outputs": [
    {
     "data": {
      "text/plain": [
       "array([[9.86190213]])"
      ]
     },
     "execution_count": 25,
     "metadata": {},
     "output_type": "execute_result"
    }
   ],
   "source": [
    "model.coef_"
   ]
  },
  {
   "cell_type": "code",
   "execution_count": 63,
   "id": "5729eb3d",
   "metadata": {},
   "outputs": [],
   "source": [
    "x=np.array(X)"
   ]
  },
  {
   "cell_type": "code",
   "execution_count": 64,
   "id": "69543e39",
   "metadata": {},
   "outputs": [],
   "source": [
    "x=x.reshape(-1,1)"
   ]
  },
  {
   "cell_type": "code",
   "execution_count": 66,
   "id": "228d4a2b",
   "metadata": {},
   "outputs": [
    {
     "data": {
      "text/plain": [
       "(25, 1)"
      ]
     },
     "execution_count": 66,
     "metadata": {},
     "output_type": "execute_result"
    }
   ],
   "source": [
    "x.shape"
   ]
  },
  {
   "cell_type": "code",
   "execution_count": 28,
   "id": "ae48bd3f",
   "metadata": {},
   "outputs": [],
   "source": [
    "line=model.intercept_+model.coef_*x"
   ]
  },
  {
   "cell_type": "code",
   "execution_count": 29,
   "id": "ace12b93",
   "metadata": {},
   "outputs": [
    {
     "data": {
      "image/png": "[encoded data removed]",
      "text/plain": [
       "<Figure size 720x432 with 1 Axes>"
      ]
     },
     "metadata": {
      "needs_background": "light"
     },
     "output_type": "display_data"
    }
   ],
   "source": [
    "fig,ax=plt.subplots(figsize=(10,6))\n",
    "ax.scatter(X,y,marker=\"*\",c=\"red\")\n",
    "ax.plot(x,line)\n",
    "plt.show()"
   ]
  },
  {
   "cell_type": "code",
   "execution_count": 32,
   "id": "68998a83",
   "metadata": {},
   "outputs": [
    {
     "data": {
      "text/plain": [
       "(5,)"
      ]
     },
     "execution_count": 32,
     "metadata": {},
     "output_type": "execute_result"
    }
   ],
   "source": [
    "X_test=np.array(X_test)\n",
    "X_test.shape"
   ]
  },
  {
   "cell_type": "code",
   "execution_count": 70,
   "id": "e7311314",
   "metadata": {},
   "outputs": [],
   "source": [
    "X_test=X_test.reshape(5,1)"
   ]
  },
  {
   "cell_type": "code",
   "execution_count": 71,
   "id": "6a60518d",
   "metadata": {},
   "outputs": [],
   "source": [
    "predic=model.predict(X_test)"
   ]
  },
  {
   "cell_type": "code",
   "execution_count": 82,
   "id": "66273038",
   "metadata": {},
   "outputs": [],
   "source": [
    "predic=predic.reshape(5,)"
   ]
  },
  {
   "cell_type": "code",
   "execution_count": 84,
   "id": "89507410",
   "metadata": {},
   "outputs": [
    {
     "data": {
      "text/plain": [
       "dtype('float64')"
      ]
     },
     "execution_count": 84,
     "metadata": {},
     "output_type": "execute_result"
    }
   ],
   "source": [
    "predic.dtype"
   ]
  },
  {
   "cell_type": "code",
   "execution_count": 85,
   "id": "f2665977",
   "metadata": {},
   "outputs": [],
   "source": [
    "result=pd.DataFrame({\"Actual\": y_test,\n",
    "                    \"predicted\": predic})"
   ]
  },
  {
   "cell_type": "code",
   "execution_count": 86,
   "id": "f35db75c",
   "metadata": {},
   "outputs": [
    {
     "data": {
      "text/html": [
       "<div>\n",
       "<style scoped>\n",
       "    .dataframe tbody tr th:only-of-type {\n",
       "        vertical-align: middle;\n",
       "    }\n",
       "\n",
       "    .dataframe tbody tr th {\n",
       "        vertical-align: top;\n",
       "    }\n",
       "\n",
       "    .dataframe thead th {\n",
       "        text-align: right;\n",
       "    }\n",
       "</style>\n",
       "<table border=\"1\" class=\"dataframe\">\n",
       "  <thead>\n",
       "    <tr style=\"text-align: right;\">\n",
       "      <th></th>\n",
       "      <th>Actual</th>\n",
       "      <th>predicted</th>\n",
       "    </tr>\n",
       "  </thead>\n",
       "  <tbody>\n",
       "    <tr>\n",
       "      <th>6</th>\n",
       "      <td>88</td>\n",
       "      <td>92.720964</td>\n",
       "    </tr>\n",
       "    <tr>\n",
       "      <th>13</th>\n",
       "      <td>42</td>\n",
       "      <td>34.535742</td>\n",
       "    </tr>\n",
       "    <tr>\n",
       "      <th>8</th>\n",
       "      <td>81</td>\n",
       "      <td>83.845252</td>\n",
       "    </tr>\n",
       "    <tr>\n",
       "      <th>9</th>\n",
       "      <td>25</td>\n",
       "      <td>28.618600</td>\n",
       "    </tr>\n",
       "    <tr>\n",
       "      <th>15</th>\n",
       "      <td>95</td>\n",
       "      <td>89.762394</td>\n",
       "    </tr>\n",
       "  </tbody>\n",
       "</table>\n",
       "</div>"
      ],
      "text/plain": [
       "    Actual  predicted\n",
       "6       88  92.720964\n",
       "13      42  34.535742\n",
       "8       81  83.845252\n",
       "9       25  28.618600\n",
       "15      95  89.762394"
      ]
     },
     "execution_count": 86,
     "metadata": {},
     "output_type": "execute_result"
    }
   ],
   "source": [
    "result"
   ]
  },
  {
   "cell_type": "code",
   "execution_count": 92,
   "id": "9a0a0e0c",
   "metadata": {},
   "outputs": [],
   "source": [
    "# What will be predicted score if a student studies for 9.25 hrs/ day?\n",
    "time=9.25\n",
    "hours=np.array(time)\n",
    "hours=hours.reshape(-1,1)"
   ]
  },
  {
   "cell_type": "code",
   "execution_count": 99,
   "id": "41ec11e6",
   "metadata": {},
   "outputs": [
    {
     "name": "stdout",
     "output_type": "stream",
     "text": [
      "studied 9.25 hours a day\n",
      "predicted score [93.21405931] %\n"
     ]
    }
   ],
   "source": [
    "percent=model.predict(hours)\n",
    "percentage=percent[0]\n",
    "print(f\"studied {time} hours a day\")\n",
    "print(f\"predicted score {percentage} %\")"
   ]
  },
  {
   "cell_type": "markdown",
   "id": "f5a8410c",
   "metadata": {},
   "source": [
    "# Model Evaluation\n",
    "\n",
    ">>The final step is evaluating the model, our purpose should be minimizing the square error or maximizing the r^2 score\n",
    ">>model Evaluation is the best way to assess different models \n",
    ">> for this project i would go with r^2 (co_efficient of determination) and mean absolute error\n"
   ]
  },
  {
   "cell_type": "code",
   "execution_count": 102,
   "id": "6fd522e0",
   "metadata": {},
   "outputs": [],
   "source": [
    "# import the evaluation metrics\n",
    "from sklearn.metrics import r2_score,mean_absolute_error"
   ]
  },
  {
   "cell_type": "code",
   "execution_count": 110,
   "id": "855c17d7",
   "metadata": {},
   "outputs": [],
   "source": [
    "#Defing a function for model evaluation whicj will take two params actual labels and predicted labels\n",
    "\n",
    "def eval(y_test,predict):\n",
    "    \"\"\"Return r^2_score and mean absolute error\"\"\"\n",
    "    r=r2_score(y_test,predict)\n",
    "    MAE=mean_absolute_error(y_test,predict)\n",
    "    result={\"r^2_score\": r,\n",
    "           \"Mean_absolute_error\": MAE}\n",
    "    return result"
   ]
  },
  {
   "cell_type": "code",
   "execution_count": 105,
   "id": "7e36ff8a",
   "metadata": {},
   "outputs": [
    {
     "data": {
      "text/plain": [
       "{'r^2_score': 0.9667371791999099, 'Mean_absolute_error': 4.777336328919412}"
      ]
     },
     "execution_count": 105,
     "metadata": {},
     "output_type": "execute_result"
    }
   ],
   "source": [
    "eval(y_test,predic)"
   ]
  },
  {
   "cell_type": "code",
   "execution_count": 108,
   "id": "6058fde6",
   "metadata": {},
   "outputs": [
    {
     "data": {
      "text/plain": [
       "{'copy_X': True,\n",
       " 'fit_intercept': True,\n",
       " 'n_jobs': -1,\n",
       " 'normalize': False,\n",
       " 'positive': False}"
      ]
     },
     "execution_count": 108,
     "metadata": {},
     "output_type": "execute_result"
    }
   ],
   "source": [
    "model.get_params()"
   ]
  },
  {
   "cell_type": "code",
   "execution_count": 109,
   "id": "56ea4ce5",
   "metadata": {},
   "outputs": [
    {
     "data": {
      "text/plain": [
       "{'1': ['● Predict the percentage of an student based on the no. of study hours. '],\n",
       " '2': ['● This is a simple linear regresson problem, it involve just two variables'],\n",
       " '3': ['● You can use R, Python, SAS Enterprise Miner or any other tool'],\n",
       " '4': ['● Data can be found at http://bit.ly/w-data'],\n",
       " '5': ['● What will be predicted score if a student studies for 9.25 hrs/ day?'],\n",
       " '6': ['● Sample Solution : https://bit.ly/2HxiGGJ']}"
      ]
     },
     "execution_count": 109,
     "metadata": {},
     "output_type": "execute_result"
    }
   ],
   "source": [
    "problem"
   ]
  },
  {
   "cell_type": "code",
   "execution_count": null,
   "id": "c66b4fea",
   "metadata": {},
   "outputs": [],
   "source": []
  }
 ],
 "metadata": {
  "kernelspec": {
   "display_name": "Python 3",
   "language": "python",
   "name": "python3"
  },
  "language_info": {
   "codemirror_mode": {
    "name": "ipython",
    "version": 3
   },
   "file_extension": ".py",
   "mimetype": "text/x-python",
   "name": "python",
   "nbconvert_exporter": "python",
   "pygments_lexer": "ipython3",
   "version": "3.8.8"
  }
 },
 "nbformat": 4,
 "nbformat_minor": 5
}
